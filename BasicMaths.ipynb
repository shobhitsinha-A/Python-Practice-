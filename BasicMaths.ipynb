{
 "cells": [
  {
   "cell_type": "code",
   "execution_count": 1,
   "metadata": {},
   "outputs": [],
   "source": [
    "#Count digits in number"
   ]
  },
  {
   "cell_type": "code",
   "execution_count": 3,
   "metadata": {},
   "outputs": [
    {
     "name": "stdout",
     "output_type": "stream",
     "text": [
      "4\n"
     ]
    }
   ],
   "source": [
    "#n = 12345\n",
    "n = 8349\n",
    "count =0\n",
    "while n >0:\n",
    "    n=int(n/10)\n",
    "    count+=1\n",
    "print(count)\n"
   ]
  },
  {
   "cell_type": "code",
   "execution_count": null,
   "metadata": {},
   "outputs": [],
   "source": [
    "#Reverse a number "
   ]
  },
  {
   "cell_type": "code",
   "execution_count": 6,
   "metadata": {},
   "outputs": [
    {
     "name": "stdout",
     "output_type": "stream",
     "text": [
      "432\n"
     ]
    }
   ],
   "source": [
    "#n = 123 \n",
    "#output 321\n",
    "n =234\n",
    "revn=0\n",
    "while n>0:\n",
    "    l=n%10\n",
    "    revn = revn*10+l\n",
    "    n=int(n/10)\n",
    "\n",
    "print(revn)\n"
   ]
  },
  {
   "cell_type": "code",
   "execution_count": null,
   "metadata": {},
   "outputs": [],
   "source": [
    "#check palindrome"
   ]
  },
  {
   "cell_type": "code",
   "execution_count": 16,
   "metadata": {},
   "outputs": [
    {
     "name": "stdout",
     "output_type": "stream",
     "text": [
      "Palindrome\n"
     ]
    }
   ],
   "source": [
    "#n =123\n",
    "n=121\n",
    "compn=n\n",
    "revn=0\n",
    "while n>0:\n",
    "    l=n%10\n",
    "    revn = revn*10+l\n",
    "    n=int(n/10)\n",
    "\n",
    "if revn == compn:\n",
    "    print('Palindrome')\n",
    "else:\n",
    "    print('Not a Palindrome')"
   ]
  },
  {
   "cell_type": "code",
   "execution_count": null,
   "metadata": {},
   "outputs": [],
   "source": [
    "#GCD of two numbers \n",
    "#go only up till small number \n",
    "#can add using if and else "
   ]
  },
  {
   "cell_type": "code",
   "execution_count": 22,
   "metadata": {},
   "outputs": [
    {
     "name": "stdout",
     "output_type": "stream",
     "text": [
      "1\n"
     ]
    }
   ],
   "source": [
    "# n1=4\n",
    "# n2=8\n",
    "\n",
    "# n1 = 3\n",
    "# n2= 6\n",
    "n1=7 \n",
    "n2=8\n",
    "ans=1\n",
    "\n",
    "for i in range(1,n2+1):\n",
    "    if n1%i==0 and n2%i==0:\n",
    "        ans = i\n",
    "\n",
    "print(ans)\n"
   ]
  },
  {
   "cell_type": "code",
   "execution_count": null,
   "metadata": {},
   "outputs": [],
   "source": [
    "#Armstrong Number "
   ]
  },
  {
   "cell_type": "code",
   "execution_count": 28,
   "metadata": {},
   "outputs": [
    {
     "name": "stdout",
     "output_type": "stream",
     "text": [
      "No\n"
     ]
    }
   ],
   "source": [
    "#n =153\n",
    "n=170\n",
    "temp=n\n",
    "temp2=n\n",
    "count=0\n",
    "\n",
    "while temp>0:\n",
    "    temp=int(temp/10)\n",
    "    count+=1\n",
    "\n",
    "ans = 0\n",
    "while temp2>0:\n",
    "    l=temp2%10\n",
    "    ans = ans + l**count\n",
    "    temp2=int(temp2/10)\n",
    "\n",
    "if ans ==n:\n",
    "    print('Yes')\n",
    "else:\n",
    "    print('No')\n",
    " "
   ]
  },
  {
   "cell_type": "markdown",
   "metadata": {},
   "source": [
    "#print all divisors "
   ]
  },
  {
   "cell_type": "code",
   "execution_count": 30,
   "metadata": {},
   "outputs": [
    {
     "name": "stdout",
     "output_type": "stream",
     "text": [
      "1 97 "
     ]
    }
   ],
   "source": [
    "#n=36\n",
    "n=97\n",
    "for i in range(1,n+1):\n",
    "    if n%i==0:\n",
    "        print(i,end=' ')"
   ]
  },
  {
   "cell_type": "code",
   "execution_count": 31,
   "metadata": {},
   "outputs": [],
   "source": [
    "#Check for prime "
   ]
  },
  {
   "cell_type": "code",
   "execution_count": 37,
   "metadata": {},
   "outputs": [
    {
     "name": "stdout",
     "output_type": "stream",
     "text": [
      "Prime\n"
     ]
    }
   ],
   "source": [
    "# N=3\n",
    "# N=6\n",
    "N=1\n",
    "\n",
    "count=1\n",
    "\n",
    "for i in range(2,N+1):\n",
    "    if N%i==0:\n",
    "        count+=1\n",
    "\n",
    "if N==1:\n",
    "    print('Prime')\n",
    "elif count==2:\n",
    "    print('Prime')\n",
    "else:\n",
    "    print('Not Prime')\n"
   ]
  },
  {
   "cell_type": "code",
   "execution_count": null,
   "metadata": {},
   "outputs": [],
   "source": []
  }
 ],
 "metadata": {
  "kernelspec": {
   "display_name": "Python 3.10.6 64-bit",
   "language": "python",
   "name": "python3"
  },
  "language_info": {
   "codemirror_mode": {
    "name": "ipython",
    "version": 3
   },
   "file_extension": ".py",
   "mimetype": "text/x-python",
   "name": "python",
   "nbconvert_exporter": "python",
   "pygments_lexer": "ipython3",
   "version": "3.10.6"
  },
  "orig_nbformat": 4,
  "vscode": {
   "interpreter": {
    "hash": "aee8b7b246df8f9039afb4144a1f6fd8d2ca17a180786b69acc140d282b71a49"
   }
  }
 },
 "nbformat": 4,
 "nbformat_minor": 2
}
