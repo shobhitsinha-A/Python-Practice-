{
 "cells": [
  {
   "cell_type": "code",
   "execution_count": 4,
   "id": "98e5d574",
   "metadata": {},
   "outputs": [],
   "source": [
    "class ExpenseTracker:\n",
    "    \"\"\"This is doc string. Info about class goes here\"\"\"\n",
    "    \n",
    "    def __init__(self):\n",
    "        pass"
   ]
  },
  {
   "cell_type": "code",
   "execution_count": 5,
   "id": "d25f053b",
   "metadata": {},
   "outputs": [],
   "source": [
    "obj1 = ExpenseTracker()"
   ]
  },
  {
   "cell_type": "code",
   "execution_count": 19,
   "id": "27263f67",
   "metadata": {},
   "outputs": [],
   "source": [
    "class ExpenseTracker:\n",
    "    \"\"\"This is doc string. Info about class goes here\"\"\"\n",
    "    \n",
    "    def __init__(self,date,description,transactionType,amount):\n",
    "        self.date=date\n",
    "        self.description=description\n",
    "        self.transactionType=transactionType\n",
    "        self.amount=amount"
   ]
  },
  {
   "cell_type": "code",
   "execution_count": 20,
   "id": "dfc6b407",
   "metadata": {},
   "outputs": [],
   "source": [
    "obj2= ExpenseTracker(\"12th Jan\",\"Fam Din Din\",\"Debit\",500)"
   ]
  },
  {
   "cell_type": "code",
   "execution_count": 21,
   "id": "8320e252",
   "metadata": {},
   "outputs": [
    {
     "data": {
      "text/plain": [
       "500"
      ]
     },
     "execution_count": 21,
     "metadata": {},
     "output_type": "execute_result"
    }
   ],
   "source": [
    "obj2.amount"
   ]
  },
  {
   "cell_type": "code",
   "execution_count": 23,
   "id": "5fba8752",
   "metadata": {},
   "outputs": [],
   "source": [
    "obj3= ExpenseTracker(\"1st Jan\",\"Salary\",\"Credit\",5000000000)"
   ]
  },
  {
   "cell_type": "code",
   "execution_count": 24,
   "id": "193f0d0e",
   "metadata": {},
   "outputs": [
    {
     "data": {
      "text/plain": [
       "5000000000"
      ]
     },
     "execution_count": 24,
     "metadata": {},
     "output_type": "execute_result"
    }
   ],
   "source": [
    "obj3.amount"
   ]
  },
  {
   "cell_type": "code",
   "execution_count": 25,
   "id": "bef99601",
   "metadata": {},
   "outputs": [],
   "source": [
    "class ExpenseTracker:\n",
    "    \"\"\"This is doc string. Info about class goes here\"\"\"\n",
    "    \n",
    "    #class attribute\n",
    "    expense_tracker_version=1.0\n",
    "    \n",
    "    def __init__(self,category,opbalance,budget):\n",
    "        self.category=category\n",
    "        self.opbalance=opbalance\n",
    "        self.budget=budget\n",
    "        "
   ]
  },
  {
   "cell_type": "code",
   "execution_count": 30,
   "id": "29e74da9",
   "metadata": {},
   "outputs": [],
   "source": [
    "hometracker=ExpenseTracker(\"Home\",1000,20000)"
   ]
  },
  {
   "cell_type": "code",
   "execution_count": 31,
   "id": "2ddc9c95",
   "metadata": {},
   "outputs": [
    {
     "data": {
      "text/plain": [
       "'Home'"
      ]
     },
     "execution_count": 31,
     "metadata": {},
     "output_type": "execute_result"
    }
   ],
   "source": [
    "hometracker.category"
   ]
  },
  {
   "cell_type": "code",
   "execution_count": 32,
   "id": "e55a790b",
   "metadata": {},
   "outputs": [],
   "source": [
    "officetracker=ExpenseTracker(\"office\",1500,500000)"
   ]
  },
  {
   "cell_type": "code",
   "execution_count": 33,
   "id": "f965da89",
   "metadata": {},
   "outputs": [
    {
     "data": {
      "text/plain": [
       "'office'"
      ]
     },
     "execution_count": 33,
     "metadata": {},
     "output_type": "execute_result"
    }
   ],
   "source": [
    "officetracker.category"
   ]
  },
  {
   "cell_type": "code",
   "execution_count": 34,
   "id": "952d6c89",
   "metadata": {},
   "outputs": [
    {
     "data": {
      "text/plain": [
       "{'category': 'Home', 'opbalance': 1000, 'budget': 20000}"
      ]
     },
     "execution_count": 34,
     "metadata": {},
     "output_type": "execute_result"
    }
   ],
   "source": [
    "hometracker.__dict__ #shows attributes of the class associated with this value"
   ]
  },
  {
   "cell_type": "code",
   "execution_count": 35,
   "id": "cfda957c",
   "metadata": {},
   "outputs": [
    {
     "data": {
      "text/plain": [
       "{'category': 'office', 'opbalance': 1500, 'budget': 500000}"
      ]
     },
     "execution_count": 35,
     "metadata": {},
     "output_type": "execute_result"
    }
   ],
   "source": [
    "officetracker.__dict__"
   ]
  },
  {
   "cell_type": "code",
   "execution_count": 36,
   "id": "27f3a68e",
   "metadata": {},
   "outputs": [
    {
     "data": {
      "text/plain": [
       "1000"
      ]
     },
     "execution_count": 36,
     "metadata": {},
     "output_type": "execute_result"
    }
   ],
   "source": [
    "getattr(hometracker,'opbalance') #returns value of paticular instance"
   ]
  },
  {
   "cell_type": "code",
   "execution_count": 37,
   "id": "57a4181c",
   "metadata": {},
   "outputs": [
    {
     "ename": "AttributeError",
     "evalue": "'ExpenseTracker' object has no attribute 'opening'",
     "output_type": "error",
     "traceback": [
      "\u001b[0;31m---------------------------------------------------------------------------\u001b[0m",
      "\u001b[0;31mAttributeError\u001b[0m                            Traceback (most recent call last)",
      "Input \u001b[0;32mIn [37]\u001b[0m, in \u001b[0;36m<cell line: 1>\u001b[0;34m()\u001b[0m\n\u001b[0;32m----> 1\u001b[0m \u001b[38;5;28;43mgetattr\u001b[39;49m\u001b[43m(\u001b[49m\u001b[43mofficetracker\u001b[49m\u001b[43m,\u001b[49m\u001b[38;5;124;43m'\u001b[39;49m\u001b[38;5;124;43mopening\u001b[39;49m\u001b[38;5;124;43m'\u001b[39;49m\u001b[43m)\u001b[49m\n",
      "\u001b[0;31mAttributeError\u001b[0m: 'ExpenseTracker' object has no attribute 'opening'"
     ]
    }
   ],
   "source": [
    "getattr(officetracker,'opening')"
   ]
  },
  {
   "cell_type": "code",
   "execution_count": 38,
   "id": "c4f7a5df",
   "metadata": {},
   "outputs": [
    {
     "data": {
      "text/plain": [
       "True"
      ]
     },
     "execution_count": 38,
     "metadata": {},
     "output_type": "execute_result"
    }
   ],
   "source": [
    "hasattr(hometracker,'opbalance')"
   ]
  },
  {
   "cell_type": "code",
   "execution_count": 39,
   "id": "efb9919c",
   "metadata": {},
   "outputs": [
    {
     "data": {
      "text/plain": [
       "False"
      ]
     },
     "execution_count": 39,
     "metadata": {},
     "output_type": "execute_result"
    }
   ],
   "source": [
    "hasattr(officetracker,'opening')"
   ]
  },
  {
   "cell_type": "code",
   "execution_count": 40,
   "id": "3fb388c5",
   "metadata": {},
   "outputs": [],
   "source": [
    "delattr(hometracker,'opbalance')"
   ]
  },
  {
   "cell_type": "code",
   "execution_count": 41,
   "id": "cc22eca2",
   "metadata": {},
   "outputs": [
    {
     "data": {
      "text/plain": [
       "{'category': 'Home', 'budget': 20000}"
      ]
     },
     "execution_count": 41,
     "metadata": {},
     "output_type": "execute_result"
    }
   ],
   "source": [
    "hometracker.__dict__"
   ]
  },
  {
   "cell_type": "code",
   "execution_count": 42,
   "id": "03360eaa",
   "metadata": {},
   "outputs": [
    {
     "data": {
      "text/plain": [
       "1.0"
      ]
     },
     "execution_count": 42,
     "metadata": {},
     "output_type": "execute_result"
    }
   ],
   "source": [
    "hometracker.expense_tracker_version #class attribute"
   ]
  },
  {
   "cell_type": "code",
   "execution_count": 43,
   "id": "e9257396",
   "metadata": {},
   "outputs": [
    {
     "data": {
      "text/plain": [
       "1.0"
      ]
     },
     "execution_count": 43,
     "metadata": {},
     "output_type": "execute_result"
    }
   ],
   "source": [
    "officetracker.expense_tracker_version"
   ]
  },
  {
   "cell_type": "code",
   "execution_count": 44,
   "id": "4284e8d8",
   "metadata": {},
   "outputs": [],
   "source": [
    "hometracker.expense_tracker_version = 2.0"
   ]
  },
  {
   "cell_type": "code",
   "execution_count": 45,
   "id": "10deaf38",
   "metadata": {},
   "outputs": [
    {
     "data": {
      "text/plain": [
       "2.0"
      ]
     },
     "execution_count": 45,
     "metadata": {},
     "output_type": "execute_result"
    }
   ],
   "source": [
    "hometracker.expense_tracker_version"
   ]
  },
  {
   "cell_type": "code",
   "execution_count": 46,
   "id": "e059d9f5",
   "metadata": {},
   "outputs": [
    {
     "data": {
      "text/plain": [
       "1.0"
      ]
     },
     "execution_count": 46,
     "metadata": {},
     "output_type": "execute_result"
    }
   ],
   "source": [
    "officetracker.expense_tracker_version"
   ]
  },
  {
   "cell_type": "code",
   "execution_count": 48,
   "id": "43bde0e9",
   "metadata": {},
   "outputs": [
    {
     "name": "stdout",
     "output_type": "stream",
     "text": [
      "Parikh 60\n"
     ]
    }
   ],
   "source": [
    "class Student:\n",
    "    name = \"Parikh\"\n",
    "    def store_details(self):\n",
    "        self.age = 60\n",
    "    def print_details(self):\n",
    "        print(self.name, end=\" \")\n",
    "        print(self.age)\n",
    "s = Student()\n",
    "s.store_details()\n",
    "s.print_details()"
   ]
  },
  {
   "cell_type": "code",
   "execution_count": 49,
   "id": "b7d84565",
   "metadata": {},
   "outputs": [
    {
     "ename": "AttributeError",
     "evalue": "'Student' object has no attribute 'age'",
     "output_type": "error",
     "traceback": [
      "\u001b[0;31m---------------------------------------------------------------------------\u001b[0m",
      "\u001b[0;31mAttributeError\u001b[0m                            Traceback (most recent call last)",
      "Input \u001b[0;32mIn [49]\u001b[0m, in \u001b[0;36m<cell line: 10>\u001b[0;34m()\u001b[0m\n\u001b[1;32m      8\u001b[0m s\u001b[38;5;241m.\u001b[39mstore_details()\n\u001b[1;32m      9\u001b[0m s1 \u001b[38;5;241m=\u001b[39m Student()\n\u001b[0;32m---> 10\u001b[0m \u001b[43ms1\u001b[49m\u001b[38;5;241;43m.\u001b[39;49m\u001b[43mprint_age\u001b[49m\u001b[43m(\u001b[49m\u001b[43m)\u001b[49m\n",
      "Input \u001b[0;32mIn [49]\u001b[0m, in \u001b[0;36mStudent.print_age\u001b[0;34m(self)\u001b[0m\n\u001b[1;32m      5\u001b[0m \u001b[38;5;28;01mdef\u001b[39;00m \u001b[38;5;21mprint_age\u001b[39m(\u001b[38;5;28mself\u001b[39m):\n\u001b[0;32m----> 6\u001b[0m     \u001b[38;5;28mprint\u001b[39m(\u001b[38;5;28;43mself\u001b[39;49m\u001b[38;5;241;43m.\u001b[39;49m\u001b[43mage\u001b[49m)\n",
      "\u001b[0;31mAttributeError\u001b[0m: 'Student' object has no attribute 'age'"
     ]
    }
   ],
   "source": [
    "class Student:\n",
    "    name = \"Parikh\"\n",
    "    def store_details(self):\n",
    "        self.age = 60\n",
    "    def print_age(self):\n",
    "        print(self.age)\n",
    "s = Student()\n",
    "s.store_details()\n",
    "s1 = Student()\n",
    "s1.print_age()\n"
   ]
  },
  {
   "cell_type": "code",
   "execution_count": 57,
   "id": "3aa41207",
   "metadata": {},
   "outputs": [],
   "source": [
    "class ExpenseTracker:\n",
    "    \"\"\"This is doc string. Info about class goes here\"\"\"\n",
    "    \n",
    "    #class attribute\n",
    "    expense_tracker_version=1.0\n",
    "    \n",
    "    def __init__(self,category,opbalance,budget):\n",
    "        self.category=category\n",
    "        self.opbalance=opbalance\n",
    "        self.budget=budget\n",
    "    \n",
    "    #instance method \n",
    "    def getOGbal(self):\n",
    "        return self.opbalance\n",
    "    @staticmethod\n",
    "    def conamt(amt):\n",
    "        return float(amt)"
   ]
  },
  {
   "cell_type": "code",
   "execution_count": 58,
   "id": "0d026d9a",
   "metadata": {},
   "outputs": [],
   "source": [
    "obj1=ExpenseTracker(\"Home\",1000,20000)"
   ]
  },
  {
   "cell_type": "code",
   "execution_count": 59,
   "id": "d8654201",
   "metadata": {},
   "outputs": [
    {
     "data": {
      "text/plain": [
       "1000"
      ]
     },
     "execution_count": 59,
     "metadata": {},
     "output_type": "execute_result"
    }
   ],
   "source": [
    "obj1.getOGbal()"
   ]
  },
  {
   "cell_type": "code",
   "execution_count": 60,
   "id": "a20faa02",
   "metadata": {},
   "outputs": [
    {
     "data": {
      "text/plain": [
       "1000"
      ]
     },
     "execution_count": 60,
     "metadata": {},
     "output_type": "execute_result"
    }
   ],
   "source": [
    "obj1.opbalance"
   ]
  },
  {
   "cell_type": "code",
   "execution_count": 61,
   "id": "8975a9f4",
   "metadata": {},
   "outputs": [
    {
     "data": {
      "text/plain": [
       "10242.0"
      ]
     },
     "execution_count": 61,
     "metadata": {},
     "output_type": "execute_result"
    }
   ],
   "source": [
    "obj1.conamt(10242)"
   ]
  },
  {
   "cell_type": "code",
   "execution_count": 63,
   "id": "4f3ab8dd",
   "metadata": {},
   "outputs": [
    {
     "ename": "TypeError",
     "evalue": "__init__() missing 2 required positional arguments: 'name' and 'age'",
     "output_type": "error",
     "traceback": [
      "\u001b[0;31m---------------------------------------------------------------------------\u001b[0m",
      "\u001b[0;31mTypeError\u001b[0m                                 Traceback (most recent call last)",
      "Input \u001b[0;32mIn [63]\u001b[0m, in \u001b[0;36m<cell line: 12>\u001b[0;34m()\u001b[0m\n\u001b[1;32m      8\u001b[0m         \u001b[38;5;28mprint\u001b[39m(\u001b[38;5;28mself\u001b[39m\u001b[38;5;241m.\u001b[39mname, end\u001b[38;5;241m=\u001b[39m \u001b[38;5;124m\"\u001b[39m\u001b[38;5;124m \u001b[39m\u001b[38;5;124m\"\u001b[39m)\n\u001b[1;32m      9\u001b[0m         \u001b[38;5;28mprint\u001b[39m(\u001b[38;5;28mself\u001b[39m\u001b[38;5;241m.\u001b[39mage)\n\u001b[0;32m---> 12\u001b[0m s \u001b[38;5;241m=\u001b[39m \u001b[43mStudent\u001b[49m\u001b[43m(\u001b[49m\u001b[43m)\u001b[49m\n\u001b[1;32m     13\u001b[0m s\u001b[38;5;241m.\u001b[39mprint_student_details()\n",
      "\u001b[0;31mTypeError\u001b[0m: __init__() missing 2 required positional arguments: 'name' and 'age'"
     ]
    }
   ],
   "source": [
    "class Student:\n",
    "\n",
    "    def __init__(self,name,age):\n",
    "        self.name = \"Rohan\"\n",
    "        self.age = 20\n",
    "\n",
    "    def print_student_details():\n",
    "        print(self.name, end= \" \")\n",
    "        print(self.age)\n",
    "\n",
    "\n",
    "s = Student()\n",
    "s.print_student_details()"
   ]
  },
  {
   "cell_type": "code",
   "execution_count": 66,
   "id": "80112aea",
   "metadata": {},
   "outputs": [
    {
     "ename": "TypeError",
     "evalue": "print_student_details() takes 0 positional arguments but 1 was given",
     "output_type": "error",
     "traceback": [
      "\u001b[0;31m---------------------------------------------------------------------------\u001b[0m",
      "\u001b[0;31mTypeError\u001b[0m                                 Traceback (most recent call last)",
      "Input \u001b[0;32mIn [66]\u001b[0m, in \u001b[0;36m<cell line: 10>\u001b[0;34m()\u001b[0m\n\u001b[1;32m      8\u001b[0m         \u001b[38;5;28mprint\u001b[39m(\u001b[38;5;28mself\u001b[39m\u001b[38;5;241m.\u001b[39mage)\n\u001b[1;32m      9\u001b[0m s \u001b[38;5;241m=\u001b[39m Student(\u001b[38;5;124m'\u001b[39m\u001b[38;5;124mParikh\u001b[39m\u001b[38;5;124m'\u001b[39m,\u001b[38;5;241m25\u001b[39m)\n\u001b[0;32m---> 10\u001b[0m \u001b[43ms\u001b[49m\u001b[38;5;241;43m.\u001b[39;49m\u001b[43mprint_student_details\u001b[49m\u001b[43m(\u001b[49m\u001b[43m)\u001b[49m\n",
      "\u001b[0;31mTypeError\u001b[0m: print_student_details() takes 0 positional arguments but 1 was given"
     ]
    }
   ],
   "source": [
    "class Student:\n",
    "    def __init__(self,name,age):\n",
    "        self.name = 'Rohan'\n",
    "        self.age = 20\n",
    "\n",
    "    def print_student_details():\n",
    "        print(self.name, end= \" \")\n",
    "        print(self.age)\n",
    "s = Student('Parikh',25)\n",
    "s.print_student_details()"
   ]
  },
  {
   "cell_type": "code",
   "execution_count": 76,
   "id": "423c1fd9",
   "metadata": {},
   "outputs": [],
   "source": [
    "class ExpenseTracker:\n",
    "    \"\"\"This is doc string. Info about class goes here\"\"\"\n",
    "    \n",
    "    #class attribute\n",
    "    expense_tracker_version=1.0\n",
    "    \n",
    "    def __init__(self,category,opbalance,budget):\n",
    "        #public attribute\n",
    "        self.category=category\n",
    "        #private attribute\n",
    "        self.__opbalance=opbalance\n",
    "        self.__budget=budget\n",
    "    \n",
    "    #instance method \n",
    "    def getOGbal(self):\n",
    "        return self.__opbalance\n",
    "    @staticmethod\n",
    "    def conamt(amt):\n",
    "        return float(amt)\n",
    "    #factory method \n",
    "    @classmethod\n",
    "    def getattrfromstring(cls,diaryentry:str):\n",
    "        track,op,tb=diaryentry.split(\" \")\n",
    "        return ExpenseTracker(track.capitalize(),cls.conamt(op),cls.conamt(tb))\n",
    "    "
   ]
  },
  {
   "cell_type": "code",
   "execution_count": 77,
   "id": "a982bd39",
   "metadata": {},
   "outputs": [],
   "source": [
    "ClassObject=ExpenseTracker.getattrfromstring(\"shopping 100 500\")"
   ]
  },
  {
   "cell_type": "code",
   "execution_count": 78,
   "id": "ccbe5009",
   "metadata": {},
   "outputs": [
    {
     "data": {
      "text/plain": [
       "{'category': 'Shopping',\n",
       " '_ExpenseTracker__opbalance': 100.0,\n",
       " '_ExpenseTracker__budget': 500.0}"
      ]
     },
     "execution_count": 78,
     "metadata": {},
     "output_type": "execute_result"
    }
   ],
   "source": [
    "ClassObject.__dict__"
   ]
  },
  {
   "cell_type": "code",
   "execution_count": 79,
   "id": "b9914a95",
   "metadata": {},
   "outputs": [],
   "source": [
    "hometracker=ExpenseTracker(\"home\",500,1000)"
   ]
  },
  {
   "cell_type": "code",
   "execution_count": 80,
   "id": "92c4d299",
   "metadata": {},
   "outputs": [
    {
     "data": {
      "text/plain": [
       "'home'"
      ]
     },
     "execution_count": 80,
     "metadata": {},
     "output_type": "execute_result"
    }
   ],
   "source": [
    "hometracker.category"
   ]
  },
  {
   "cell_type": "code",
   "execution_count": 81,
   "id": "8c4dd115",
   "metadata": {},
   "outputs": [
    {
     "data": {
      "text/plain": [
       "{'category': 'home',\n",
       " '_ExpenseTracker__opbalance': 500,\n",
       " '_ExpenseTracker__budget': 1000}"
      ]
     },
     "execution_count": 81,
     "metadata": {},
     "output_type": "execute_result"
    }
   ],
   "source": [
    "hometracker.__dict__"
   ]
  },
  {
   "cell_type": "code",
   "execution_count": 82,
   "id": "aeff0608",
   "metadata": {},
   "outputs": [
    {
     "data": {
      "text/plain": [
       "500"
      ]
     },
     "execution_count": 82,
     "metadata": {},
     "output_type": "execute_result"
    }
   ],
   "source": [
    "hometracker._ExpenseTracker__opbalance"
   ]
  },
  {
   "cell_type": "code",
   "execution_count": 83,
   "id": "ea249979",
   "metadata": {},
   "outputs": [
    {
     "data": {
      "text/plain": [
       "500"
      ]
     },
     "execution_count": 83,
     "metadata": {},
     "output_type": "execute_result"
    }
   ],
   "source": [
    "hometracker.getOGbal()"
   ]
  },
  {
   "cell_type": "code",
   "execution_count": 86,
   "id": "49ff59aa",
   "metadata": {},
   "outputs": [
    {
     "name": "stdout",
     "output_type": "stream",
     "text": [
      "Rohan 20\n"
     ]
    }
   ],
   "source": [
    "class Student:\n",
    "     def __init__(self,name,age):\n",
    "        self.__name = name\n",
    "        self.age = age\n",
    "     def print_student_details(self):\n",
    "        print(self.__name, end= \" \")\n",
    "        print(self.age)\n",
    "s = Student(\"Rohan\",20)\n",
    "s.print_student_details()"
   ]
  },
  {
   "cell_type": "code",
   "execution_count": null,
   "id": "cc1f302c",
   "metadata": {},
   "outputs": [],
   "source": []
  }
 ],
 "metadata": {
  "kernelspec": {
   "display_name": "Python 3 (ipykernel)",
   "language": "python",
   "name": "python3"
  },
  "language_info": {
   "codemirror_mode": {
    "name": "ipython",
    "version": 3
   },
   "file_extension": ".py",
   "mimetype": "text/x-python",
   "name": "python",
   "nbconvert_exporter": "python",
   "pygments_lexer": "ipython3",
   "version": "3.9.12"
  }
 },
 "nbformat": 4,
 "nbformat_minor": 5
}
