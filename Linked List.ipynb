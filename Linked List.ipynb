{
 "cells": [
  {
   "cell_type": "code",
   "execution_count": 1,
   "id": "25adfc2f",
   "metadata": {},
   "outputs": [],
   "source": [
    "class Node:\n",
    "    def __init__(self,data):\n",
    "        self.data = data\n",
    "        self.next = None\n",
    "\n",
    "a = Node(1)\n",
    "b = Node(2)\n",
    "a.next = b"
   ]
  },
  {
   "cell_type": "code",
   "execution_count": 2,
   "id": "73c2f4c3",
   "metadata": {},
   "outputs": [
    {
     "name": "stdout",
     "output_type": "stream",
     "text": [
      "1\n",
      "2\n",
      "2\n"
     ]
    }
   ],
   "source": [
    "print(a.data)\n",
    "print(b.data)\n",
    "print(a.next.data)"
   ]
  },
  {
   "cell_type": "code",
   "execution_count": 3,
   "id": "0f670f02",
   "metadata": {},
   "outputs": [
    {
     "name": "stdout",
     "output_type": "stream",
     "text": [
      "<__main__.Node object at 0x7fb4a9e27730>\n",
      "<__main__.Node object at 0x7fb4a9e27b80>\n",
      "<__main__.Node object at 0x7fb4a9e27b80>\n"
     ]
    }
   ],
   "source": [
    "print(a)\n",
    "print(b)\n",
    "print(a.next)"
   ]
  },
  {
   "cell_type": "code",
   "execution_count": 18,
   "id": "2fdfea84",
   "metadata": {},
   "outputs": [
    {
     "name": "stdout",
     "output_type": "stream",
     "text": [
      "1 2 3 4 -1\n",
      "1->2->3->4->None\n"
     ]
    }
   ],
   "source": [
    "class Node:\n",
    "    def __init__(self,data):\n",
    "        self.data = data\n",
    "        self.next = None\n",
    "    \n",
    "def takeInput():\n",
    "    inputList = [int(e) for e in input().split()]\n",
    "    head = None\n",
    "    for currData in inputList:\n",
    "        if currData == -1:\n",
    "            break \n",
    "        newNode = Node(currData)\n",
    "        if head is None:\n",
    "            head = newNode \n",
    "        else:\n",
    "            curr = head \n",
    "            while curr.next is not None:\n",
    "                curr = curr.next\n",
    "            curr.next = newNode \n",
    "    \n",
    "    \n",
    "    return head \n",
    "\n",
    "def printLL(head):\n",
    "    while head is not None:\n",
    "        print(str(head.data) + \"->\", end=\"\")\n",
    "        head=head.next \n",
    "    print(\"None\")\n",
    "    return \n",
    "        \n",
    "head = takeInput()\n",
    "printLL(head)"
   ]
  },
  {
   "cell_type": "code",
   "execution_count": null,
   "id": "61cf8e92",
   "metadata": {},
   "outputs": [],
   "source": [
    "#OPTIMIZED CODE"
   ]
  },
  {
   "cell_type": "code",
   "execution_count": 19,
   "id": "e784280f",
   "metadata": {},
   "outputs": [
    {
     "name": "stdout",
     "output_type": "stream",
     "text": [
      "1 2 3 4 -1\n",
      "1->2->3->4->None\n"
     ]
    }
   ],
   "source": [
    "class Node:\n",
    "    def __init__(self,data):\n",
    "        self.data = data\n",
    "        self.next = None\n",
    "    \n",
    "def takeInput():\n",
    "    inputList = [int(e) for e in input().split()]\n",
    "    head = None\n",
    "    for currData in inputList:\n",
    "        if currData == -1:\n",
    "            break \n",
    "        newNode = Node(currData)\n",
    "        if head is None:\n",
    "            head = newNode\n",
    "            curr = head \n",
    "        else:\n",
    "            curr.next = newNode\n",
    "            curr = curr.next\n",
    "    \n",
    "    \n",
    "    return head \n",
    "\n",
    "def printLL(head):\n",
    "    while head is not None:\n",
    "        print(str(head.data) + \"->\", end=\"\")\n",
    "        head=head.next \n",
    "    print(\"None\")\n",
    "    return \n",
    "        \n",
    "head = takeInput()\n",
    "printLL(head)"
   ]
  },
  {
   "cell_type": "markdown",
   "id": "6f0dc089",
   "metadata": {},
   "source": [
    "Introduction to LL\n",
    "Design Node Class\n",
    "Length of LL\n",
    "Print ith Node *"
   ]
  }
 ],
 "metadata": {
  "kernelspec": {
   "display_name": "Python 3 (ipykernel)",
   "language": "python",
   "name": "python3"
  },
  "language_info": {
   "codemirror_mode": {
    "name": "ipython",
    "version": 3
   },
   "file_extension": ".py",
   "mimetype": "text/x-python",
   "name": "python",
   "nbconvert_exporter": "python",
   "pygments_lexer": "ipython3",
   "version": "3.9.12"
  },
  "toc": {
   "base_numbering": 1,
   "nav_menu": {},
   "number_sections": true,
   "sideBar": true,
   "skip_h1_title": false,
   "title_cell": "Table of Contents",
   "title_sidebar": "Contents",
   "toc_cell": false,
   "toc_position": {},
   "toc_section_display": true,
   "toc_window_display": false
  }
 },
 "nbformat": 4,
 "nbformat_minor": 5
}
