{
 "cells": [
  {
   "cell_type": "markdown",
   "id": "6b3a27f1",
   "metadata": {},
   "source": [
    "# Inheritance "
   ]
  },
  {
   "cell_type": "code",
   "execution_count": 1,
   "id": "2299954c",
   "metadata": {},
   "outputs": [],
   "source": [
    "class Vehicle():\n",
    "    def __init__(self,make,model,manufacturer):\n",
    "        self.make=make \n",
    "        self.model=model\n",
    "        self.manufacturer = manufacturer "
   ]
  },
  {
   "cell_type": "code",
   "execution_count": 15,
   "id": "1594a500",
   "metadata": {},
   "outputs": [],
   "source": [
    "#to define parent child relation\n",
    "class Car(Vehicle):\n",
    "    def __init__(self,make,model,manufacturer,sunroof,powerwindow):\n",
    "        #parent attribites\n",
    "        Vehicle.make=make \n",
    "        Vehicle.model=model\n",
    "        Vehicle.manufacturer = manufacturer\n",
    "        #own attribute of child \n",
    "        self.sunroof=sunroof\n",
    "        self.powerwindow=powerwindow\n",
    "    \n",
    "    #accessing parent attribute using functions\n",
    "    def showParentAttr(self):\n",
    "        print(Vehicle.make)\n",
    "        print(Vehicle.model)\n",
    "        print(Vehicle.manufacturer)"
   ]
  },
  {
   "cell_type": "code",
   "execution_count": 16,
   "id": "a0fda97c",
   "metadata": {},
   "outputs": [],
   "source": [
    "obj = Car(\"1990\",\"Mustang\",\"Cheverlot\",True,True)"
   ]
  },
  {
   "cell_type": "code",
   "execution_count": 17,
   "id": "3c31eb35",
   "metadata": {},
   "outputs": [
    {
     "data": {
      "text/plain": [
       "{'sunroof': True, 'powerwindow': True}"
      ]
     },
     "execution_count": 17,
     "metadata": {},
     "output_type": "execute_result"
    }
   ],
   "source": [
    "obj.__dict__"
   ]
  },
  {
   "cell_type": "code",
   "execution_count": 18,
   "id": "1385be71",
   "metadata": {},
   "outputs": [
    {
     "name": "stdout",
     "output_type": "stream",
     "text": [
      "1990\n",
      "Mustang\n",
      "Cheverlot\n"
     ]
    }
   ],
   "source": [
    "obj.showParentAttr()"
   ]
  },
  {
   "cell_type": "code",
   "execution_count": 19,
   "id": "407d4130",
   "metadata": {},
   "outputs": [
    {
     "data": {
      "text/plain": [
       "'1990'"
      ]
     },
     "execution_count": 19,
     "metadata": {},
     "output_type": "execute_result"
    }
   ],
   "source": [
    "#directly accessing parent attribute\n",
    "obj.make"
   ]
  },
  {
   "cell_type": "markdown",
   "id": "6bbff1ef",
   "metadata": {},
   "source": [
    "# Private Members "
   ]
  },
  {
   "cell_type": "code",
   "execution_count": 57,
   "id": "a9509d92",
   "metadata": {},
   "outputs": [],
   "source": [
    "class Vehicle():\n",
    "    def __init__(self,make,model,manufacturer,stearing):\n",
    "        self.make=make \n",
    "        #private\n",
    "        self.__model=model\n",
    "        self.__manufacturer = manufacturer \n",
    "        self.__stearing = stearing\n",
    "    def __privateMethodParent(self):\n",
    "        print(\"this Is private!\")"
   ]
  },
  {
   "cell_type": "code",
   "execution_count": 67,
   "id": "33a47be4",
   "metadata": {},
   "outputs": [],
   "source": [
    "#to define parent child relation\n",
    "class Car(Vehicle):\n",
    "    def __init__(self,make,model,manufacturer,stearing,sunroof,powerwindow):\n",
    "        #parent attribites\n",
    "        Vehicle.make=make \n",
    "        Vehicle.__model=model\n",
    "        Vehicle.__manufacturer = manufacturer\n",
    "        Vehicle.__stearing = stearing \n",
    "        #own attribute of child \n",
    "        self.sunroof=sunroof\n",
    "        self.powerwindow=powerwindow\n",
    "    \n",
    "    #accessing parent attribute using functions\n",
    "    def __showParentAttr(self):\n",
    "        print(Vehicle.make)\n",
    "        print(Vehicle.__model)\n",
    "        print(Vehicle.__manufacturer)\n",
    "        print(Vehicle.__stearing)\n",
    "    \n",
    "    def showPrivateMethodOfParent(self):\n",
    "        self._Vehicle__privateMethodParent()"
   ]
  },
  {
   "cell_type": "code",
   "execution_count": 68,
   "id": "39f1d232",
   "metadata": {},
   "outputs": [],
   "source": [
    "obj = Car(\"1990\",\"Mustang\",\"Power\",\"Cheverlot\",True,True)"
   ]
  },
  {
   "cell_type": "code",
   "execution_count": 69,
   "id": "f084a838",
   "metadata": {},
   "outputs": [
    {
     "data": {
      "text/plain": [
       "{'sunroof': True, 'powerwindow': True}"
      ]
     },
     "execution_count": 69,
     "metadata": {},
     "output_type": "execute_result"
    }
   ],
   "source": [
    "obj.__dict__"
   ]
  },
  {
   "cell_type": "code",
   "execution_count": 72,
   "id": "b4254fac",
   "metadata": {},
   "outputs": [
    {
     "name": "stdout",
     "output_type": "stream",
     "text": [
      "1990\n",
      "Mustang\n",
      "Power\n",
      "Cheverlot\n"
     ]
    }
   ],
   "source": [
    "##using public method of child class to access private attributes model and manufacturer\n",
    "#use _CLASSNAME__PRIVATEMETHODNAME to access private method of child class\n",
    "obj._Car__showParentAttr()"
   ]
  },
  {
   "cell_type": "code",
   "execution_count": 73,
   "id": "fac69787",
   "metadata": {},
   "outputs": [
    {
     "data": {
      "text/plain": [
       "'1990'"
      ]
     },
     "execution_count": 73,
     "metadata": {},
     "output_type": "execute_result"
    }
   ],
   "source": [
    "#directly accessing parent attribute\n",
    "obj.make"
   ]
  },
  {
   "cell_type": "code",
   "execution_count": 74,
   "id": "e9b98064",
   "metadata": {},
   "outputs": [
    {
     "ename": "AttributeError",
     "evalue": "'Car' object has no attribute 'model'",
     "output_type": "error",
     "traceback": [
      "\u001b[0;31m---------------------------------------------------------------------------\u001b[0m",
      "\u001b[0;31mAttributeError\u001b[0m                            Traceback (most recent call last)",
      "Input \u001b[0;32mIn [74]\u001b[0m, in \u001b[0;36m<cell line: 1>\u001b[0;34m()\u001b[0m\n\u001b[0;32m----> 1\u001b[0m \u001b[43mobj\u001b[49m\u001b[38;5;241;43m.\u001b[39;49m\u001b[43mmodel\u001b[49m\n",
      "\u001b[0;31mAttributeError\u001b[0m: 'Car' object has no attribute 'model'"
     ]
    }
   ],
   "source": [
    "obj.model"
   ]
  },
  {
   "cell_type": "code",
   "execution_count": 75,
   "id": "036e9e99",
   "metadata": {},
   "outputs": [
    {
     "ename": "AttributeError",
     "evalue": "'Car' object has no attribute '__model'",
     "output_type": "error",
     "traceback": [
      "\u001b[0;31m---------------------------------------------------------------------------\u001b[0m",
      "\u001b[0;31mAttributeError\u001b[0m                            Traceback (most recent call last)",
      "Input \u001b[0;32mIn [75]\u001b[0m, in \u001b[0;36m<cell line: 1>\u001b[0;34m()\u001b[0m\n\u001b[0;32m----> 1\u001b[0m \u001b[43mobj\u001b[49m\u001b[38;5;241;43m.\u001b[39;49m\u001b[43m__model\u001b[49m\n",
      "\u001b[0;31mAttributeError\u001b[0m: 'Car' object has no attribute '__model'"
     ]
    }
   ],
   "source": [
    "obj.__model"
   ]
  },
  {
   "cell_type": "code",
   "execution_count": 76,
   "id": "627b7e35",
   "metadata": {},
   "outputs": [
    {
     "ename": "AttributeError",
     "evalue": "'Car' object has no attribute '__privateMethodParent'",
     "output_type": "error",
     "traceback": [
      "\u001b[0;31m---------------------------------------------------------------------------\u001b[0m",
      "\u001b[0;31mAttributeError\u001b[0m                            Traceback (most recent call last)",
      "Input \u001b[0;32mIn [76]\u001b[0m, in \u001b[0;36m<cell line: 1>\u001b[0;34m()\u001b[0m\n\u001b[0;32m----> 1\u001b[0m \u001b[43mobj\u001b[49m\u001b[38;5;241;43m.\u001b[39;49m\u001b[43m__privateMethodParent\u001b[49m()\n",
      "\u001b[0;31mAttributeError\u001b[0m: 'Car' object has no attribute '__privateMethodParent'"
     ]
    }
   ],
   "source": [
    "obj.__privateMethodParent()"
   ]
  },
  {
   "cell_type": "code",
   "execution_count": 77,
   "id": "db010ef8",
   "metadata": {},
   "outputs": [
    {
     "name": "stdout",
     "output_type": "stream",
     "text": [
      "this Is private!\n"
     ]
    }
   ],
   "source": [
    "obj.showPrivateMethodOfParent()"
   ]
  },
  {
   "cell_type": "code",
   "execution_count": 79,
   "id": "4ca17504",
   "metadata": {},
   "outputs": [
    {
     "ename": "AttributeError",
     "evalue": "'Car' object has no attribute '_Car__color'",
     "output_type": "error",
     "traceback": [
      "\u001b[0;31m---------------------------------------------------------------------------\u001b[0m",
      "\u001b[0;31mAttributeError\u001b[0m                            Traceback (most recent call last)",
      "Input \u001b[0;32mIn [79]\u001b[0m, in \u001b[0;36m<cell line: 12>\u001b[0;34m()\u001b[0m\n\u001b[1;32m     10\u001b[0m         \u001b[38;5;28mprint\u001b[39m(c\u001b[38;5;241m.\u001b[39mnumGears)\n\u001b[1;32m     11\u001b[0m c \u001b[38;5;241m=\u001b[39m Car(\u001b[38;5;124m\"\u001b[39m\u001b[38;5;124mblack\u001b[39m\u001b[38;5;124m\"\u001b[39m,\u001b[38;5;241m5\u001b[39m)\n\u001b[0;32m---> 12\u001b[0m \u001b[43mc\u001b[49m\u001b[38;5;241;43m.\u001b[39;49m\u001b[43mprintCar\u001b[49m\u001b[43m(\u001b[49m\u001b[43m)\u001b[49m\n",
      "Input \u001b[0;32mIn [79]\u001b[0m, in \u001b[0;36mCar.printCar\u001b[0;34m(self)\u001b[0m\n\u001b[1;32m      8\u001b[0m \u001b[38;5;28;01mdef\u001b[39;00m \u001b[38;5;21mprintCar\u001b[39m(\u001b[38;5;28mself\u001b[39m):\n\u001b[0;32m----> 9\u001b[0m     \u001b[38;5;28mprint\u001b[39m(\u001b[43mc\u001b[49m\u001b[38;5;241;43m.\u001b[39;49m\u001b[43m__color\u001b[49m,end\u001b[38;5;241m=\u001b[39m\u001b[38;5;124m\"\u001b[39m\u001b[38;5;124m \u001b[39m\u001b[38;5;124m\"\u001b[39m)\n\u001b[1;32m     10\u001b[0m     \u001b[38;5;28mprint\u001b[39m(c\u001b[38;5;241m.\u001b[39mnumGears)\n",
      "\u001b[0;31mAttributeError\u001b[0m: 'Car' object has no attribute '_Car__color'"
     ]
    }
   ],
   "source": [
    "class Vehicle:\n",
    "     def __init__(self,color):\n",
    "        self.__color = color\n",
    "class Car(Vehicle):\n",
    "    def __init__(self,color,numGears):\n",
    "        super().__init__(color)\n",
    "        self.numGears = numGears\n",
    "    def printCar(self):\n",
    "        print(c.__color,end=\" \")\n",
    "        print(c.numGears)\n",
    "c = Car(\"black\",5)\n",
    "c.printCar()"
   ]
  },
  {
   "cell_type": "markdown",
   "id": "65581a4f",
   "metadata": {},
   "source": [
    "# Super()"
   ]
  },
  {
   "cell_type": "code",
   "execution_count": 86,
   "id": "3830612c",
   "metadata": {},
   "outputs": [],
   "source": [
    "class Vehicle():\n",
    "    def __init__(self,make,model,manufacturer,stearing):\n",
    "        self.make=make \n",
    "        #private\n",
    "        self.__model=model\n",
    "        self.__manufacturer = manufacturer \n",
    "        self.__stearing = stearing\n",
    "    def __privateMethodParent(self):\n",
    "        print(\"this Is private!\")"
   ]
  },
  {
   "cell_type": "code",
   "execution_count": 88,
   "id": "eab315e0",
   "metadata": {},
   "outputs": [],
   "source": [
    "#to define parent child relation\n",
    "class Car(Vehicle):\n",
    "    def __init__(self,make,model,manufacturer,stearing,sunroof,powerwindow):\n",
    "        #siper keyword beings down parent attribute as local attributes of child class see obj.__dict__\n",
    "        super(Car,self).__init__(make,model,manufacturer,stearing)\n",
    "        #NO NEED TO DO THIS NOW\n",
    "#         #parent attribites\n",
    "#         Vehicle.make=make \n",
    "#         Vehicle.__model=model\n",
    "#         Vehicle.__manufacturer = manufacturer\n",
    "#         Vehicle.__stearing = stearing \n",
    "        #own attribute of child \n",
    "        self.sunroof=sunroof\n",
    "        self.powerwindow=powerwindow\n",
    "     #NO NEED TO DO THIS NOW\n",
    "    #accessing parent attribute using functions\n",
    "#     def __showParentAttr(self):\n",
    "#         print(Vehicle.make)\n",
    "#         print(Vehicle.__model)\n",
    "#         print(Vehicle.__manufacturer)\n",
    "#         print(Vehicle.__stearing)\n",
    "    \n",
    "    def showPrivateMethodOfParent(self):\n",
    "        self._Vehicle__privateMethodParent()"
   ]
  },
  {
   "cell_type": "code",
   "execution_count": 89,
   "id": "820eca36",
   "metadata": {},
   "outputs": [],
   "source": [
    "obj = Car(\"1990\",\"Mustang\",\"Power\",\"Cheverlot\",True,True)"
   ]
  },
  {
   "cell_type": "code",
   "execution_count": 90,
   "id": "8514b8d1",
   "metadata": {},
   "outputs": [
    {
     "data": {
      "text/plain": [
       "{'make': '1990',\n",
       " '_Vehicle__model': 'Mustang',\n",
       " '_Vehicle__manufacturer': 'Power',\n",
       " '_Vehicle__stearing': 'Cheverlot',\n",
       " 'sunroof': True,\n",
       " 'powerwindow': True}"
      ]
     },
     "execution_count": 90,
     "metadata": {},
     "output_type": "execute_result"
    }
   ],
   "source": [
    "obj.__dict__"
   ]
  },
  {
   "cell_type": "code",
   "execution_count": 91,
   "id": "91eb54c2",
   "metadata": {},
   "outputs": [
    {
     "name": "stdout",
     "output_type": "stream",
     "text": [
      "this Is private!\n"
     ]
    }
   ],
   "source": [
    "obj._Vehicle__privateMethodParent()"
   ]
  },
  {
   "cell_type": "markdown",
   "id": "81f2c557",
   "metadata": {},
   "source": [
    "# Polymorphism "
   ]
  },
  {
   "cell_type": "code",
   "execution_count": 146,
   "id": "d980fc64",
   "metadata": {},
   "outputs": [],
   "source": [
    "class Vehicle():\n",
    "    currentyear=2022\n",
    "    baseprice=1000\n",
    "    def __init__(self,make,model,manufacturer):\n",
    "        self.__make=make \n",
    "        #private\n",
    "        self.__model=model\n",
    "        self.__manufacturer = manufacturer \n",
    "        \n",
    "    def __privateMethodParent(self):\n",
    "        print(\"this Is private!\")\n",
    "        \n",
    "    def get_value(self):\n",
    "        age = Vehicle.currentyear-self.__make\n",
    "        print(\"THIS IS PARENT METHOD\")\n",
    "        return Vehicle.baseprice*(1/age)"
   ]
  },
  {
   "cell_type": "code",
   "execution_count": 140,
   "id": "8a6e847a",
   "metadata": {},
   "outputs": [],
   "source": [
    "class Car(Vehicle):\n",
    "    def __init__(self,make,model,manufacturer,sunroof,powerwindow):\n",
    "        super(Car,self).__init__(make,model,manufacturer)\n",
    "        self.sunroof=sunroof\n",
    "        self.powerwindow=powerwindow\n",
    "    \n",
    "    def showPrivateMethodOfParent(self):\n",
    "        self._Vehicle__privateMethodParent()\n",
    "    \n",
    "    def get_value(self):\n",
    "        Vehicle.baseprice = 50000\n",
    "        age = Vehicle.currentyear-self._Vehicle__make\n",
    "        print(\"THIS IS CHILD METHOD\")\n",
    "        return Vehicle.baseprice*(1/age)"
   ]
  },
  {
   "cell_type": "code",
   "execution_count": 141,
   "id": "32d5b53e",
   "metadata": {},
   "outputs": [],
   "source": [
    "obj = Car(1990,\"Mustang\",\"Cheverlot\",True,True)"
   ]
  },
  {
   "cell_type": "code",
   "execution_count": 142,
   "id": "d178b18a",
   "metadata": {},
   "outputs": [
    {
     "data": {
      "text/plain": [
       "{'_Vehicle__make': 1990,\n",
       " '_Vehicle__model': 'Mustang',\n",
       " '_Vehicle__manufacturer': 'Cheverlot',\n",
       " 'sunroof': True,\n",
       " 'powerwindow': True}"
      ]
     },
     "execution_count": 142,
     "metadata": {},
     "output_type": "execute_result"
    }
   ],
   "source": [
    "obj.__dict__"
   ]
  },
  {
   "cell_type": "code",
   "execution_count": 143,
   "id": "dc22cb6f",
   "metadata": {},
   "outputs": [
    {
     "name": "stdout",
     "output_type": "stream",
     "text": [
      "THIS IS CHILD METHOD\n"
     ]
    },
    {
     "data": {
      "text/plain": [
       "1562.5"
      ]
     },
     "execution_count": 143,
     "metadata": {},
     "output_type": "execute_result"
    }
   ],
   "source": [
    "obj.get_value()"
   ]
  },
  {
   "cell_type": "code",
   "execution_count": 147,
   "id": "6d5e6425",
   "metadata": {},
   "outputs": [],
   "source": [
    "obj1 = Vehicle(1990,\"Mustang\",\"Cheverlot\")"
   ]
  },
  {
   "cell_type": "code",
   "execution_count": 148,
   "id": "bb7e0d90",
   "metadata": {},
   "outputs": [
    {
     "name": "stdout",
     "output_type": "stream",
     "text": [
      "THIS IS PARENT METHOD\n"
     ]
    },
    {
     "data": {
      "text/plain": [
       "31.25"
      ]
     },
     "execution_count": 148,
     "metadata": {},
     "output_type": "execute_result"
    }
   ],
   "source": [
    "obj1.get_value()"
   ]
  },
  {
   "cell_type": "code",
   "execution_count": 150,
   "id": "ed23735f",
   "metadata": {},
   "outputs": [
    {
     "ename": "RecursionError",
     "evalue": "maximum recursion depth exceeded",
     "output_type": "error",
     "traceback": [
      "\u001b[0;31m---------------------------------------------------------------------------\u001b[0m",
      "\u001b[0;31mRecursionError\u001b[0m                            Traceback (most recent call last)",
      "Input \u001b[0;32mIn [150]\u001b[0m, in \u001b[0;36m<cell line: 14>\u001b[0;34m()\u001b[0m\n\u001b[1;32m     12\u001b[0m         \u001b[38;5;28mprint\u001b[39m(c\u001b[38;5;241m.\u001b[39mnumGears)\n\u001b[1;32m     13\u001b[0m c \u001b[38;5;241m=\u001b[39m Car(\u001b[38;5;124m\"\u001b[39m\u001b[38;5;124mblack\u001b[39m\u001b[38;5;124m\"\u001b[39m,\u001b[38;5;241m5\u001b[39m)\n\u001b[0;32m---> 14\u001b[0m \u001b[43mc\u001b[49m\u001b[38;5;241;43m.\u001b[39;49m\u001b[43mprint\u001b[49m\u001b[43m(\u001b[49m\u001b[43m)\u001b[49m\n",
      "Input \u001b[0;32mIn [150]\u001b[0m, in \u001b[0;36mCar.print\u001b[0;34m(self)\u001b[0m\n\u001b[1;32m     10\u001b[0m \u001b[38;5;28;01mdef\u001b[39;00m \u001b[38;5;21mprint\u001b[39m(\u001b[38;5;28mself\u001b[39m):\n\u001b[0;32m---> 11\u001b[0m     \u001b[38;5;28;43mself\u001b[39;49m\u001b[38;5;241;43m.\u001b[39;49m\u001b[43mprint\u001b[49m\u001b[43m(\u001b[49m\u001b[43m)\u001b[49m\n\u001b[1;32m     12\u001b[0m     \u001b[38;5;28mprint\u001b[39m(c\u001b[38;5;241m.\u001b[39mnumGears)\n",
      "Input \u001b[0;32mIn [150]\u001b[0m, in \u001b[0;36mCar.print\u001b[0;34m(self)\u001b[0m\n\u001b[1;32m     10\u001b[0m \u001b[38;5;28;01mdef\u001b[39;00m \u001b[38;5;21mprint\u001b[39m(\u001b[38;5;28mself\u001b[39m):\n\u001b[0;32m---> 11\u001b[0m     \u001b[38;5;28;43mself\u001b[39;49m\u001b[38;5;241;43m.\u001b[39;49m\u001b[43mprint\u001b[49m\u001b[43m(\u001b[49m\u001b[43m)\u001b[49m\n\u001b[1;32m     12\u001b[0m     \u001b[38;5;28mprint\u001b[39m(c\u001b[38;5;241m.\u001b[39mnumGears)\n",
      "    \u001b[0;31m[... skipping similar frames: Car.print at line 11 (2970 times)]\u001b[0m\n",
      "Input \u001b[0;32mIn [150]\u001b[0m, in \u001b[0;36mCar.print\u001b[0;34m(self)\u001b[0m\n\u001b[1;32m     10\u001b[0m \u001b[38;5;28;01mdef\u001b[39;00m \u001b[38;5;21mprint\u001b[39m(\u001b[38;5;28mself\u001b[39m):\n\u001b[0;32m---> 11\u001b[0m     \u001b[38;5;28;43mself\u001b[39;49m\u001b[38;5;241;43m.\u001b[39;49m\u001b[43mprint\u001b[49m\u001b[43m(\u001b[49m\u001b[43m)\u001b[49m\n\u001b[1;32m     12\u001b[0m     \u001b[38;5;28mprint\u001b[39m(c\u001b[38;5;241m.\u001b[39mnumGears)\n",
      "\u001b[0;31mRecursionError\u001b[0m: maximum recursion depth exceeded"
     ]
    }
   ],
   "source": [
    "class Vehicle:\n",
    "    def __init__(self,color):\n",
    "        self.color = color\n",
    "    def print(self):\n",
    "        print(c.color,end=\"\")\n",
    "class Car(Vehicle):\n",
    "    def __init__(self,color,numGears):\n",
    "        super().__init__(color)\n",
    "        self.numGears = numGears\n",
    "    def print(self):\n",
    "        self.print()\n",
    "        print(c.numGears)\n",
    "c = Car(\"black\",5)\n",
    "c.print()"
   ]
  },
  {
   "cell_type": "markdown",
   "id": "d9c31602",
   "metadata": {},
   "source": [
    "# Object Class"
   ]
  },
  {
   "cell_type": "code",
   "execution_count": 2,
   "id": "7ebe29a9",
   "metadata": {},
   "outputs": [
    {
     "name": "stdout",
     "output_type": "stream",
     "text": [
      "<__main__.Circle object at 0x7f8449b2eee0>\n"
     ]
    }
   ],
   "source": [
    "class Circle(object):\n",
    "    def __init__(self,radius):\n",
    "        self.__radius = radius\n",
    "\n",
    "c = Circle(3)\n",
    "print(c)"
   ]
  },
  {
   "cell_type": "code",
   "execution_count": 4,
   "id": "de4acda5",
   "metadata": {},
   "outputs": [
    {
     "name": "stdout",
     "output_type": "stream",
     "text": [
      "This class circle takes radius as an arguments\n"
     ]
    }
   ],
   "source": [
    "class Circle(object):\n",
    "    def __init__(self,radius):\n",
    "        self.__radius = radius\n",
    "    def __str__(self):\n",
    "        return \"This class circle takes radius as an arguments\"\n",
    "\n",
    "c = Circle(3)\n",
    "print(c)"
   ]
  },
  {
   "cell_type": "code",
   "execution_count": 6,
   "id": "6e748a44",
   "metadata": {},
   "outputs": [
    {
     "name": "stdout",
     "output_type": "stream",
     "text": [
      "This is a Circle Class\n"
     ]
    }
   ],
   "source": [
    "#What will be the output of following code?\n",
    "class Circle(object):\n",
    "    def __str__(self):\n",
    "        return \"This is a Circle Class\"\n",
    "c = Circle()\n",
    "print(c)"
   ]
  },
  {
   "cell_type": "code",
   "execution_count": 14,
   "id": "5cc67318",
   "metadata": {},
   "outputs": [],
   "source": [
    "# Multi level inheritance \n",
    "\n",
    "class Vehicle():\n",
    "    def __init__(self,make,model,manufacturer):\n",
    "        self.make=make \n",
    "        self.model=model\n",
    "        self.manufacturer = manufacturer "
   ]
  },
  {
   "cell_type": "code",
   "execution_count": 15,
   "id": "c94d57f8",
   "metadata": {},
   "outputs": [],
   "source": [
    "#to define parent child relation\n",
    "class Car(Vehicle):\n",
    "    def __init__(self,make,model,manufacturer,sunroof,powerwindow):\n",
    "        super(Car,self).__init__(make,model,manufacturer)\n",
    "        #own attribute of child \n",
    "        self.sunroof=sunroof\n",
    "        self.powerwindow=powerwindow"
   ]
  },
  {
   "cell_type": "code",
   "execution_count": 16,
   "id": "f606931a",
   "metadata": {},
   "outputs": [],
   "source": [
    "class ElectricCar(Car):\n",
    "    #init should have all the arguments including parents and child\n",
    "    def __init__(self,make,model,manufacturer,sunroof,powerwindow,distance):\n",
    "        #have all arguments to be inherited from parents \n",
    "        super(ElectricCar,self).__init__(make,model,manufacturer,\n",
    "                                      sunroof,powerwindow)\n",
    "        self.distance=distance "
   ]
  },
  {
   "cell_type": "code",
   "execution_count": 17,
   "id": "18cc3278",
   "metadata": {},
   "outputs": [],
   "source": [
    "obj = ElectricCar(1998,\"Tesla\",\"me\",True,True,1000)"
   ]
  },
  {
   "cell_type": "code",
   "execution_count": 18,
   "id": "cabb7859",
   "metadata": {},
   "outputs": [
    {
     "data": {
      "text/plain": [
       "{'make': 1998,\n",
       " 'model': 'Tesla',\n",
       " 'manufacturer': 'me',\n",
       " 'sunroof': True,\n",
       " 'powerwindow': True,\n",
       " 'distance': 1000}"
      ]
     },
     "execution_count": 18,
     "metadata": {},
     "output_type": "execute_result"
    }
   ],
   "source": [
    "obj.__dict__"
   ]
  },
  {
   "cell_type": "code",
   "execution_count": 20,
   "id": "a4e213b3",
   "metadata": {},
   "outputs": [
    {
     "name": "stdout",
     "output_type": "stream",
     "text": [
      "init of B called\n"
     ]
    }
   ],
   "source": [
    "#What will be the output of following code?\n",
    "class A:\n",
    "\n",
    "    def __init__(self):\n",
    "        print(\"init of A called\")\n",
    "class B:\n",
    "    def __init__(self):\n",
    "        print(\"init of B called\")\n",
    "\n",
    "class C(B,A):\n",
    "    def __init__(self):\n",
    "        super().__init__()\n",
    "\n",
    "c = C()"
   ]
  },
  {
   "cell_type": "code",
   "execution_count": 21,
   "id": "9b76fc0d",
   "metadata": {},
   "outputs": [],
   "source": [
    "class X: \n",
    "      pass\n",
    "class Y: \n",
    "      pass\n",
    "class Z:\n",
    "      pass\n",
    "class A(X,Y):\n",
    "      pass\n",
    "class B(Y,Z):\n",
    "      pass\n",
    "class C(B,A,Y):\n",
    "      pass"
   ]
  },
  {
   "cell_type": "code",
   "execution_count": 22,
   "id": "7f8d48ea",
   "metadata": {},
   "outputs": [
    {
     "data": {
      "text/plain": [
       "[__main__.C,\n",
       " __main__.B,\n",
       " __main__.A,\n",
       " __main__.X,\n",
       " __main__.Y,\n",
       " __main__.Z,\n",
       " object]"
      ]
     },
     "execution_count": 22,
     "metadata": {},
     "output_type": "execute_result"
    }
   ],
   "source": [
    "C.mro()"
   ]
  },
  {
   "cell_type": "markdown",
   "id": "f3dad89c",
   "metadata": {},
   "source": [
    "# Operator Overloading "
   ]
  },
  {
   "cell_type": "code",
   "execution_count": 29,
   "id": "e8dda7c1",
   "metadata": {},
   "outputs": [],
   "source": [
    "class Vehicle:\n",
    "    def __init__(self,make,model,fare):\n",
    "        self.make = make\n",
    "        self.model = model\n",
    "        self.fare = fare\n",
    "    def __str__(self):\n",
    "        return \"The make of the car is {}, model is {} and fare is  {} \".format(self.make,self.model,self.fare)\n",
    "        "
   ]
  },
  {
   "cell_type": "code",
   "execution_count": 30,
   "id": "67855e39",
   "metadata": {},
   "outputs": [],
   "source": [
    "obj = Vehicle(1998,\"Tesla\",150)\n",
    "obj1 = Vehicle(1997,\"Oesla\",15)\n"
   ]
  },
  {
   "cell_type": "code",
   "execution_count": 31,
   "id": "a3e93139",
   "metadata": {},
   "outputs": [
    {
     "name": "stdout",
     "output_type": "stream",
     "text": [
      "The make of the car is 1998, model is Tesla and fare is  150 \n"
     ]
    }
   ],
   "source": [
    "print(obj)"
   ]
  },
  {
   "cell_type": "code",
   "execution_count": 32,
   "id": "6d46f4c3",
   "metadata": {},
   "outputs": [
    {
     "ename": "TypeError",
     "evalue": "unsupported operand type(s) for +: 'Vehicle' and 'Vehicle'",
     "output_type": "error",
     "traceback": [
      "\u001b[0;31m---------------------------------------------------------------------------\u001b[0m",
      "\u001b[0;31mTypeError\u001b[0m                                 Traceback (most recent call last)",
      "Input \u001b[0;32mIn [32]\u001b[0m, in \u001b[0;36m<cell line: 1>\u001b[0;34m()\u001b[0m\n\u001b[0;32m----> 1\u001b[0m \u001b[43mobj\u001b[49m\u001b[38;5;241;43m+\u001b[39;49m\u001b[43mobj1\u001b[49m\n",
      "\u001b[0;31mTypeError\u001b[0m: unsupported operand type(s) for +: 'Vehicle' and 'Vehicle'"
     ]
    }
   ],
   "source": [
    "obj+obj1"
   ]
  },
  {
   "cell_type": "code",
   "execution_count": 37,
   "id": "6fc05c9f",
   "metadata": {},
   "outputs": [],
   "source": [
    "class Vehicle:\n",
    "    def __init__(self,make,model,fare):\n",
    "        self.make = make\n",
    "        self.model = model\n",
    "        self.fare = fare\n",
    "    def __str__(self):\n",
    "        return \"The make of the car is {}, model is {} and fare is  {} \".format(self.make,self.model,self.fare)\n",
    "    \n",
    "    def __add__(self,other):\n",
    "        return self.fare+other.fare\n",
    "    \n",
    "    def __sub__(self,other):\n",
    "        return self.fare-other.fare"
   ]
  },
  {
   "cell_type": "code",
   "execution_count": 38,
   "id": "8856231d",
   "metadata": {},
   "outputs": [],
   "source": [
    "obj = Vehicle(1998,\"Tesla\",150)\n",
    "obj1 = Vehicle(1997,\"Oesla\",15)\n"
   ]
  },
  {
   "cell_type": "code",
   "execution_count": 39,
   "id": "eac6cc2a",
   "metadata": {},
   "outputs": [
    {
     "data": {
      "text/plain": [
       "165"
      ]
     },
     "execution_count": 39,
     "metadata": {},
     "output_type": "execute_result"
    }
   ],
   "source": [
    "obj+obj1"
   ]
  },
  {
   "cell_type": "code",
   "execution_count": 40,
   "id": "3b0fd0a8",
   "metadata": {},
   "outputs": [
    {
     "data": {
      "text/plain": [
       "135"
      ]
     },
     "execution_count": 40,
     "metadata": {},
     "output_type": "execute_result"
    }
   ],
   "source": [
    "obj-obj1"
   ]
  },
  {
   "cell_type": "code",
   "execution_count": null,
   "id": "e916bdf5",
   "metadata": {},
   "outputs": [],
   "source": []
  }
 ],
 "metadata": {
  "kernelspec": {
   "display_name": "Python 3 (ipykernel)",
   "language": "python",
   "name": "python3"
  },
  "language_info": {
   "codemirror_mode": {
    "name": "ipython",
    "version": 3
   },
   "file_extension": ".py",
   "mimetype": "text/x-python",
   "name": "python",
   "nbconvert_exporter": "python",
   "pygments_lexer": "ipython3",
   "version": "3.9.12"
  }
 },
 "nbformat": 4,
 "nbformat_minor": 5
}
