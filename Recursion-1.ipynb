{
 "cells": [
  {
   "cell_type": "code",
   "execution_count": 2,
   "id": "3c2dda0a",
   "metadata": {},
   "outputs": [],
   "source": [
    "def fact(n):\n",
    "    if n==0:\n",
    "        return 1\n",
    "    return n * fact(n-1)"
   ]
  },
  {
   "cell_type": "code",
   "execution_count": 3,
   "id": "5f6aec60",
   "metadata": {},
   "outputs": [
    {
     "name": "stdout",
     "output_type": "stream",
     "text": [
      "5\n"
     ]
    },
    {
     "data": {
      "text/plain": [
       "120"
      ]
     },
     "execution_count": 3,
     "metadata": {},
     "output_type": "execute_result"
    }
   ],
   "source": [
    "n = int(input())\n",
    "fact(n)"
   ]
  },
  {
   "cell_type": "code",
   "execution_count": 8,
   "id": "aef148b5",
   "metadata": {},
   "outputs": [],
   "source": [
    "#Sum of n natural number \n",
    "\n",
    "def sum(n):\n",
    "    if n==0:\n",
    "        return 0\n",
    "    return n + sum(n-1)"
   ]
  },
  {
   "cell_type": "code",
   "execution_count": 9,
   "id": "541a6174",
   "metadata": {},
   "outputs": [
    {
     "name": "stdout",
     "output_type": "stream",
     "text": [
      "5\n"
     ]
    },
    {
     "data": {
      "text/plain": [
       "15"
      ]
     },
     "execution_count": 9,
     "metadata": {},
     "output_type": "execute_result"
    }
   ],
   "source": [
    "n=int(input())\n",
    "sum(n)"
   ]
  },
  {
   "cell_type": "code",
   "execution_count": 11,
   "id": "0b31494b",
   "metadata": {},
   "outputs": [],
   "source": [
    "def print1ton(n):\n",
    "    if n==0:\n",
    "        return \n",
    "    print1ton(n-1)\n",
    "    print(n)\n",
    "    return "
   ]
  },
  {
   "cell_type": "code",
   "execution_count": 12,
   "id": "48a85969",
   "metadata": {},
   "outputs": [
    {
     "name": "stdout",
     "output_type": "stream",
     "text": [
      "1\n",
      "2\n",
      "3\n",
      "4\n",
      "5\n"
     ]
    }
   ],
   "source": [
    "print1ton(5)"
   ]
  },
  {
   "cell_type": "code",
   "execution_count": 14,
   "id": "926cef46",
   "metadata": {},
   "outputs": [],
   "source": [
    "def printnto1(n):\n",
    "    if n==0:\n",
    "        return \n",
    "    print(n)\n",
    "    printnto1(n-1)"
   ]
  },
  {
   "cell_type": "code",
   "execution_count": 15,
   "id": "496c132a",
   "metadata": {},
   "outputs": [
    {
     "name": "stdout",
     "output_type": "stream",
     "text": [
      "5\n",
      "4\n",
      "3\n",
      "2\n",
      "1\n"
     ]
    }
   ],
   "source": [
    "printnto1(5)"
   ]
  },
  {
   "cell_type": "code",
   "execution_count": 20,
   "id": "c643332d",
   "metadata": {},
   "outputs": [],
   "source": [
    "def fib(n):\n",
    "    if n==1 or n==2:\n",
    "        return 1\n",
    "    fibn_1=fib(n-1)\n",
    "    fibn_2=fib(n-2)\n",
    "    output=fib(n-1)+fib(n-2)\n",
    "    return output"
   ]
  },
  {
   "cell_type": "code",
   "execution_count": 21,
   "id": "50b5df42",
   "metadata": {},
   "outputs": [
    {
     "data": {
      "text/plain": [
       "2"
      ]
     },
     "execution_count": 21,
     "metadata": {},
     "output_type": "execute_result"
    }
   ],
   "source": [
    "fib(3)"
   ]
  },
  {
   "cell_type": "code",
   "execution_count": 25,
   "id": "21466800",
   "metadata": {},
   "outputs": [],
   "source": [
    "def isListSorted(a):\n",
    "    l = len(a)\n",
    "    if l==0 or l==1:\n",
    "        return True\n",
    "    if a[0]>a[1]:\n",
    "        return False\n",
    "    return isListSorted(a[1:])\n",
    "    "
   ]
  },
  {
   "cell_type": "code",
   "execution_count": 29,
   "id": "02ecfc70",
   "metadata": {},
   "outputs": [
    {
     "name": "stdout",
     "output_type": "stream",
     "text": [
      "False\n"
     ]
    }
   ],
   "source": [
    "print(isListSorted([0,2,3,5,4]))"
   ]
  },
  {
   "cell_type": "code",
   "execution_count": 31,
   "id": "a35a3472",
   "metadata": {},
   "outputs": [
    {
     "name": "stdout",
     "output_type": "stream",
     "text": [
      "3\n",
      "1 2 3\n",
      "6\n"
     ]
    }
   ],
   "source": [
    "def sumArray(arr):\n",
    "    l = len(arr)\n",
    "    #base case \n",
    "    if l==0:\n",
    "        return \n",
    "    if l==1:\n",
    "        return arr[0]\n",
    "    \n",
    "    return arr[0] +sumArray(arr[1:n])\n",
    "\n",
    "# Main\n",
    "from sys import setrecursionlimit\n",
    "setrecursionlimit(11000)\n",
    "n=int(input())\n",
    "arr=list(int(i) for i in input().strip().split(' '))\n",
    "print(sumArray(arr))\n"
   ]
  },
  {
   "cell_type": "code",
   "execution_count": 45,
   "id": "9b03bcd3",
   "metadata": {},
   "outputs": [],
   "source": [
    "def isListSortedBetter(a,si):\n",
    "    l = len(a)\n",
    "    #either list iteration done or empty list (si=0 == length =0)\n",
    "    if si == l-1 or si==l:\n",
    "        return True\n",
    "    if a[si]>a[si+1]:\n",
    "        return False\n",
    "    return isListSortedBetter(a,si+1)"
   ]
  },
  {
   "cell_type": "code",
   "execution_count": 47,
   "id": "7b3462e0",
   "metadata": {},
   "outputs": [
    {
     "data": {
      "text/plain": [
       "True"
      ]
     },
     "execution_count": 47,
     "metadata": {},
     "output_type": "execute_result"
    }
   ],
   "source": [
    "a=[1,2,3,7,9]\n",
    "isListSortedBetter(a,0)"
   ]
  },
  {
   "cell_type": "code",
   "execution_count": 49,
   "id": "557a88f4",
   "metadata": {},
   "outputs": [
    {
     "name": "stdout",
     "output_type": "stream",
     "text": [
      "26\n",
      "26 15 24 58 61 79 3 97 81 81 45 62 21 72 72 68 45 11 50 87 20 28 77 51 89 58 66  \n",
      "23\n",
      "-1\n"
     ]
    }
   ],
   "source": [
    "#First Index of a Number 2 ways: Indexing & copying array\n",
    "\n",
    "def firstIndex(arr, x,si):    \n",
    "    l=len(arr)\n",
    "    if si==l-1 or si==l:\n",
    "        return -1\n",
    "    if arr[si]==x:\n",
    "        return si\n",
    "    return firstIndex(arr,x,si+1)\n",
    "# Main\n",
    "from sys import setrecursionlimit\n",
    "setrecursionlimit(11000)\n",
    "n=int(input())\n",
    "arr=list(int(i) for i in input().strip().split(' '))\n",
    "x=int(input())\n",
    "si=0\n",
    "print(firstIndex(arr, x,si))\n",
    "\n",
    "\n"
   ]
  },
  {
   "cell_type": "code",
   "execution_count": 59,
   "id": "50a5712f",
   "metadata": {},
   "outputs": [
    {
     "name": "stdout",
     "output_type": "stream",
     "text": [
      "5\n",
      "1 2 3 4 5\n",
      "5\n",
      "5\n",
      "1\n",
      "4\n",
      "2\n",
      "3\n",
      "3\n",
      "2\n",
      "4\n",
      "1\n",
      "-1\n"
     ]
    }
   ],
   "source": [
    "#has problems \n",
    "def firstIndex(arr, x):\n",
    "    l = len(arr)\n",
    "    print(l)\n",
    "    #empty list \n",
    "    if l==0: \n",
    "        return 0\n",
    "    if l==1:\n",
    "        if arr[0]==x:\n",
    "            return 0\n",
    "    if arr[0]==x:\n",
    "        return 0\n",
    "    print(arr[0])\n",
    "    return firstIndex(arr[1:],x) +1\n",
    "\n",
    "from sys import setrecursionlimit\n",
    "setrecursionlimit(11000)\n",
    "n=int(input())\n",
    "arr=list(int(i) for i in input().strip().split(' '))\n",
    "x=int(input())\n",
    "if n==0:\n",
    "    print(-1)\n",
    "ans = firstIndex(arr, x)\n",
    "if ans ==n-1:\n",
    "    print(-1)\n",
    "else:\n",
    "    print(ans)"
   ]
  },
  {
   "cell_type": "code",
   "execution_count": 60,
   "id": "5276eff7",
   "metadata": {},
   "outputs": [
    {
     "name": "stdout",
     "output_type": "stream",
     "text": [
      "5\n",
      "1 2 3 4 5\n",
      "5\n",
      "4\n"
     ]
    }
   ],
   "source": [
    "#correct approach can be better\n",
    "def firstIndex(arr, x):\n",
    "    l = len(arr)\n",
    "    #print(l)\n",
    "    #empty list \n",
    "    if l==0: \n",
    "        return 0\n",
    "    if l==1:\n",
    "        if arr[0]==x:\n",
    "            return 0\n",
    "    if arr[0]==x:\n",
    "        return 0\n",
    "    #print(arr[0])\n",
    "    return firstIndex(arr[1:],x) +1\n",
    "\n",
    "from sys import setrecursionlimit\n",
    "setrecursionlimit(11000)\n",
    "n=int(input())\n",
    "arr=list(int(i) for i in input().strip().split(' '))\n",
    "x=int(input())\n",
    "if n==0:\n",
    "    print(-1)\n",
    "ans = firstIndex(arr, x)\n",
    "if ans ==n:\n",
    "    print(-1)\n",
    "else:\n",
    "    print(ans)"
   ]
  },
  {
   "cell_type": "code",
   "execution_count": 62,
   "id": "e8eeb4c5",
   "metadata": {},
   "outputs": [
    {
     "name": "stdout",
     "output_type": "stream",
     "text": [
      "5\n",
      "1 2 3 4 5\n",
      "5\n",
      "4\n"
     ]
    }
   ],
   "source": [
    "#bettersolution AK\n",
    "\n",
    "def firstIndex(arr, x):\n",
    "    l = len(arr)\n",
    "    if l==0:\n",
    "        return -1\n",
    "    if arr[0]==x:\n",
    "        return 0\n",
    "    smallerlistOp=firstIndex(arr[1:],x)\n",
    "    if smallerlistOp==-1:\n",
    "        return -1\n",
    "    else:\n",
    "        return smallerlistOp + 1 \n",
    "    \n",
    "from sys import setrecursionlimit\n",
    "setrecursionlimit(11000)\n",
    "n=int(input())\n",
    "arr=list(int(i) for i in input().strip().split(' '))\n",
    "x=int(input())\n",
    "\n",
    "print(firstIndex(arr, x))"
   ]
  },
  {
   "cell_type": "code",
   "execution_count": null,
   "id": "76183316",
   "metadata": {},
   "outputs": [],
   "source": []
  }
 ],
 "metadata": {
  "kernelspec": {
   "display_name": "Python 3 (ipykernel)",
   "language": "python",
   "name": "python3"
  },
  "language_info": {
   "codemirror_mode": {
    "name": "ipython",
    "version": 3
   },
   "file_extension": ".py",
   "mimetype": "text/x-python",
   "name": "python",
   "nbconvert_exporter": "python",
   "pygments_lexer": "ipython3",
   "version": "3.9.12"
  }
 },
 "nbformat": 4,
 "nbformat_minor": 5
}
