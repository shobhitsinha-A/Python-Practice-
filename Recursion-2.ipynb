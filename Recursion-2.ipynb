{
 "cells": [
  {
   "cell_type": "code",
   "execution_count": 3,
   "id": "5bd4efaf",
   "metadata": {},
   "outputs": [],
   "source": [
    "def replace(string,this,that):\n",
    "    if len(string)==0:\n",
    "        return ''\n",
    "    smallOp=replace(string[1:],this,that)\n",
    "    if string[0]==this:\n",
    "        return that+smallOp\n",
    "    else:\n",
    "        return string[0]+smallOp"
   ]
  },
  {
   "cell_type": "code",
   "execution_count": 4,
   "id": "be070eac",
   "metadata": {},
   "outputs": [
    {
     "data": {
      "text/plain": [
       "'bbcdebbdd'"
      ]
     },
     "execution_count": 4,
     "metadata": {},
     "output_type": "execute_result"
    }
   ],
   "source": [
    "replace('abcdeaadd','a','b')"
   ]
  },
  {
   "cell_type": "code",
   "execution_count": null,
   "id": "5e5a6258",
   "metadata": {},
   "outputs": [],
   "source": [
    "# Problem: Remove x from string\n",
    "def removeX(string): \n",
    "    if len(string)==0:\n",
    "        return string \n",
    "    \n",
    "    smOp=removeX(string[1:])\n",
    "    if string[0]=='x':\n",
    "        return ''+smOp\n",
    "    else:\n",
    "        return string[0]+smOp\n",
    "\n",
    "\n",
    "# Main\n",
    "string = input()\n",
    "print(removeX(string))"
   ]
  },
  {
   "cell_type": "code",
   "execution_count": 15,
   "id": "1d8a9ad6",
   "metadata": {},
   "outputs": [],
   "source": [
    "def replacePI(s):\n",
    "    #also add len(s)==0 as empty string can be passed do nothing\n",
    "    if len(s)==0 or len(s)==1:\n",
    "        return s \n",
    "            \n",
    "    \n",
    "    smOp=replacePI(s[1:])\n",
    "    \n",
    "    if smOp[0]=='i' and s[0]=='p':\n",
    "        return '3.14'+smOp[1:]\n",
    "    else:\n",
    "        return s[0]+smOp"
   ]
  },
  {
   "cell_type": "code",
   "execution_count": 18,
   "id": "d41617e1",
   "metadata": {},
   "outputs": [
    {
     "data": {
      "text/plain": [
       "'3.14p3.14'"
      ]
     },
     "execution_count": 18,
     "metadata": {},
     "output_type": "execute_result"
    }
   ],
   "source": [
    "replacePI('pippi')"
   ]
  },
  {
   "cell_type": "code",
   "execution_count": null,
   "id": "08b400fb",
   "metadata": {},
   "outputs": [],
   "source": [
    "# removeConsecutiveDuplicates\n",
    "def removeConsecutiveDuplicates(string):\n",
    "    if len(string)==0 or len(string)==1:\n",
    "        return string \n",
    "    \n",
    "    smOp=removeConsecutiveDuplicates(string[1:])\n",
    "    if string[0]==smOp[0]:\n",
    "        return ''+smOp\n",
    "    else:\n",
    "        return string[0]+smOp\n",
    "\n",
    "# Main\n",
    "string = input().strip()\n",
    "print(removeConsecutiveDuplicates(string))\n"
   ]
  },
  {
   "cell_type": "code",
   "execution_count": 57,
   "id": "4a5af9a3",
   "metadata": {},
   "outputs": [],
   "source": [
    "def binarySearch(a,x,si,ei):\n",
    "    if si>ei:\n",
    "        return -1 \n",
    "    mid=(si+ei)//2\n",
    "    if a[mid]==x:\n",
    "        return mid\n",
    "    elif a[mid]>x:\n",
    "        return binarySearch(a,x,si,mid-1)\n",
    "    else:\n",
    "        return binarySearch(a,x,mid+1,ei)\n",
    "    "
   ]
  },
  {
   "cell_type": "code",
   "execution_count": 58,
   "id": "88b24497",
   "metadata": {},
   "outputs": [
    {
     "data": {
      "text/plain": [
       "1"
      ]
     },
     "execution_count": 58,
     "metadata": {},
     "output_type": "execute_result"
    }
   ],
   "source": [
    "binarySearch([1,2,3,4,5],2,0,4)"
   ]
  },
  {
   "cell_type": "code",
   "execution_count": 74,
   "id": "a71d524d",
   "metadata": {},
   "outputs": [],
   "source": [
    "#mergeSort\n",
    "def merge(a1,a2,a):\n",
    "    i=0\n",
    "    j=0\n",
    "    k=0\n",
    "    while i < len(a1) and j < len(a2):\n",
    "        if (a1[i]<a2[j]):\n",
    "            a[k]=a1[i]\n",
    "            k=k+1\n",
    "            i=i+1\n",
    "        else:\n",
    "            a[k]=a2[j]\n",
    "            k=k+1\n",
    "            j=j+1\n",
    "    while i < len(a1):\n",
    "        a[k]=a1[i]\n",
    "        k=k+1\n",
    "        i=i+1\n",
    "    while j < len(a2):\n",
    "        a[k]=a2[j]\n",
    "        k=k+1\n",
    "        j=j+1\n",
    "    "
   ]
  },
  {
   "cell_type": "code",
   "execution_count": 75,
   "id": "c3c391ec",
   "metadata": {},
   "outputs": [],
   "source": [
    "def mergeSort(a):\n",
    "    if len(a)==0 or len(a)==1:\n",
    "        return \n",
    "    mid = len(a)//2\n",
    "    a1=a[0:mid]\n",
    "    a2=a[mid:]\n",
    "    \n",
    "    mergeSort(a1)\n",
    "    mergeSort(a2)\n",
    "    \n",
    "    merge(a1,a2,a)\n",
    "    "
   ]
  },
  {
   "cell_type": "code",
   "execution_count": 76,
   "id": "5a25376e",
   "metadata": {},
   "outputs": [
    {
     "name": "stdout",
     "output_type": "stream",
     "text": [
      "[1, 2, 3, 4, 5]\n"
     ]
    }
   ],
   "source": [
    "li=[5,4,3,2,1]\n",
    "mergeSort(li)\n",
    "print(li)"
   ]
  },
  {
   "cell_type": "code",
   "execution_count": 85,
   "id": "80e84608",
   "metadata": {},
   "outputs": [],
   "source": [
    "def part(a,si,ei):\n",
    "    pivot = a[si]\n",
    "    #c=count of el smaller then pvit \n",
    "    c = 0\n",
    "    for i in range(si,ei+1):\n",
    "        if a[i]<pivot:\n",
    "            c=c+1\n",
    "    a[si+c],a[si]=a[si],a[si+c]\n",
    "    pivotIn= si+c\n",
    "    \n",
    "    i=si\n",
    "    j=ei\n",
    "    while i < j:\n",
    "        if a[i]<pivot:\n",
    "            i=i+1\n",
    "        elif a[j]>=pivot:\n",
    "            j=j-1\n",
    "        else:\n",
    "            a[i],a[j]=a[j],a[i]\n",
    "            i+=1\n",
    "            j-=1\n",
    "    return pivotIn"
   ]
  },
  {
   "cell_type": "code",
   "execution_count": 86,
   "id": "792906f6",
   "metadata": {},
   "outputs": [],
   "source": [
    "#quick sort \n",
    "def qS(a,si,ei):\n",
    "    if si>=ei:\n",
    "        return \n",
    "\n",
    "    pI=part(a,si,ei)\n",
    "    qS(a,si,pI-1)\n",
    "    qS(a,pI+1,ei)\n",
    "    "
   ]
  },
  {
   "cell_type": "code",
   "execution_count": 92,
   "id": "59bf73c0",
   "metadata": {},
   "outputs": [],
   "source": [
    "a=[6,10,9,8,7,1,3,5,4,2]\n",
    "# print(part(a,0,len(a)-1))\n",
    "qS(a,0,len(a)-1)\n"
   ]
  },
  {
   "cell_type": "code",
   "execution_count": 93,
   "id": "f09de732",
   "metadata": {},
   "outputs": [
    {
     "data": {
      "text/plain": [
       "[1, 2, 3, 4, 5, 6, 7, 8, 9, 10]"
      ]
     },
     "execution_count": 93,
     "metadata": {},
     "output_type": "execute_result"
    }
   ],
   "source": [
    "a"
   ]
  },
  {
   "cell_type": "code",
   "execution_count": null,
   "id": "2120fe39",
   "metadata": {},
   "outputs": [],
   "source": []
  }
 ],
 "metadata": {
  "kernelspec": {
   "display_name": "Python 3 (ipykernel)",
   "language": "python",
   "name": "python3"
  },
  "language_info": {
   "codemirror_mode": {
    "name": "ipython",
    "version": 3
   },
   "file_extension": ".py",
   "mimetype": "text/x-python",
   "name": "python",
   "nbconvert_exporter": "python",
   "pygments_lexer": "ipython3",
   "version": "3.9.12"
  }
 },
 "nbformat": 4,
 "nbformat_minor": 5
}
